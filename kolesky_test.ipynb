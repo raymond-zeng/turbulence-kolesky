{
 "cells": [
  {
   "cell_type": "code",
   "execution_count": 18,
   "id": "ff0a4e6a",
   "metadata": {},
   "outputs": [],
   "source": [
    "import pandas as pd\n",
    "import numpy as np\n",
    "import matplotlib.pyplot as plt\n",
    "import pickle\n",
    "from kolesky import cholesky"
   ]
  },
  {
   "cell_type": "code",
   "execution_count": 19,
   "id": "4d2efa6e",
   "metadata": {},
   "outputs": [],
   "source": [
    "def logdet_chol(A):\n",
    "    return 2 * np.sum(np.log(A.diagonal()))\n",
    "\n",
    "def kl_div(A, B):\n",
    "    n = A.shape[0]\n",
    "    return 0.5 * (np.trace(np.linalg.solve(B, A)) - n + np.linalg.slogdet(B)[1] - np.linalg.slogdet(A)[1])\n",
    "\n",
    "def sparse_kl_div(A, L):\n",
    "    n = A.shape[0]\n",
    "    return 0.5 * (-logdet_chol(L) - np.linalg.slogdet(A)[1])"
   ]
  },
  {
   "cell_type": "code",
   "execution_count": 20,
   "id": "873c7098",
   "metadata": {},
   "outputs": [
    {
     "name": "stdout",
     "output_type": "stream",
     "text": [
      "(5028, 169, 3)\n"
     ]
    }
   ],
   "source": [
    "with open('13x13iso1024.pickle', 'rb') as f:\n",
    "    data = pickle.load(f)\n",
    "\n",
    "print(data.shape)"
   ]
  },
  {
   "cell_type": "code",
   "execution_count": 21,
   "id": "246d3564",
   "metadata": {},
   "outputs": [],
   "source": [
    "nx = 13\n",
    "ny = 1\n",
    "nz = 13\n",
    "# x_points = np.linspace(0.0, 18 * np.pi / 1024, nx, dtype = np.float64)\n",
    "# x_points = np.linspace(0.0, 18 * np.pi / 512, nx, dtype = np.float64)\n",
    "# x_points = np.linspace(0.0, 98 * np.pi / 512, nx, dtype = np.float64)\n",
    "y_points = np.pi / 2\n",
    "x_points = np.linspace(0.0, 24 * np.pi / 512, nx, dtype = np.float64)\n",
    "# y_points = np.linspace(0.0, 24 * np.pi / 512, ny, dtype = np.float64)\n",
    "z_points = np.linspace(0.0, 24 * np.pi / 512, nz, dtype = np.float64)\n",
    "# y_points = np.linspace(0.0, 18 * np.pi / 512, ny, dtype = np.float64)\n",
    "# z_points = np.linspace(0.0, 18 * np.pi / 1024, nz, dtype = np.float64)\n",
    "# z_points = np.linspace(0.0, 18 * np.pi / 512, nz, dtype = np.float64)\n",
    "# z_points = np.linspace(0.0, 98 * np.pi / 512, nz, dtype = np.float64)\n",
    "points = np.array([axis.ravel() for axis in np.meshgrid(x_points, y_points, z_points, indexing = 'ij')], dtype = np.float64).T"
   ]
  },
  {
   "cell_type": "code",
   "execution_count": 22,
   "id": "dce7e73a",
   "metadata": {},
   "outputs": [],
   "source": [
    "x_velocity = data[:, :, 0]\n",
    "y_velocity = data[:, :, 1]\n",
    "z_velocity = data[:, :, -1]"
   ]
  },
  {
   "cell_type": "code",
   "execution_count": 23,
   "id": "83c20087",
   "metadata": {},
   "outputs": [],
   "source": [
    "L, order = cholesky.kl_cholesky(points, x_velocity, 4.0, 1.5)"
   ]
  },
  {
   "cell_type": "code",
   "execution_count": 24,
   "id": "33b5a676",
   "metadata": {},
   "outputs": [
    {
     "name": "stdout",
     "output_type": "stream",
     "text": [
      "KL divergence: 10.138606365197461\n",
      "KL divergence: 10.13860636518666\n"
     ]
    }
   ],
   "source": [
    "L = L.toarray()\n",
    "ordered_x_velocity = x_velocity[:, order]\n",
    "x_cov = np.cov(ordered_x_velocity, rowvar = False, bias = True)\n",
    "kl = sparse_kl_div(x_cov, L)\n",
    "print('KL divergence:', kl)\n",
    "kl = kl_div(x_cov, np.linalg.inv(L @ L.T))\n",
    "print('KL divergence:', kl)"
   ]
  },
  {
   "cell_type": "code",
   "execution_count": 25,
   "id": "d31e4763",
   "metadata": {},
   "outputs": [],
   "source": [
    "from scipy.spatial import KDTree\n",
    "import scipy.linalg\n",
    "import scipy.sparse as sparse\n",
    "\n",
    "def col(theta):\n",
    "    m = np.linalg.inv(theta)\n",
    "    return m[:, 0] / np.sqrt(m[0, 0])\n",
    "\n",
    "def __supernodes(sparsity, lengths, lamb):\n",
    "    groups = []\n",
    "    candidates = set(range(len(lengths)))\n",
    "    agg_sparsity = {}\n",
    "    i = 0\n",
    "    while len(candidates) > 0:\n",
    "        while i not in candidates:\n",
    "            i += 1\n",
    "        group = sorted(j for j in sparsity[i] if lengths[j] <= lamb * lengths[i] and j in candidates)\n",
    "        groups.append(group)\n",
    "        candidates -= set(group)\n",
    "        s = sorted({k for j in group for k in sparsity[j]})\n",
    "        agg_sparsity[group[0]] = s\n",
    "        positions = {k: j for j, k in enumerate(s)}\n",
    "        for j in group[1:]:\n",
    "            agg_sparsity[j] = np.empty(len(s) - positions[j], dtype=int)\n",
    "    return groups, agg_sparsity\n",
    "\n",
    "def chol(points, covariance, sparsity):\n",
    "    n = len(points)\n",
    "    ptr = np.cumsum([0] + [len(sparsity[i]) for i in range(n)])\n",
    "    data, indices = np.zeros(ptr[-1]), np.zeros(ptr[-1])\n",
    "    for i in range(n):\n",
    "        s = sorted(sparsity[i])\n",
    "        theta = np.zeros((len(s), len(s)))\n",
    "        for j in range(len(s)):\n",
    "            for k in range(len(s)):\n",
    "                theta[j, k] = covariance[s[j], s[k]]\n",
    "        c = col(theta)\n",
    "        data[ptr[i] : ptr[i + 1]] = c\n",
    "        indices[ptr[i] : ptr[i + 1]] = s\n",
    "    return sparse.csc_matrix((data, indices, ptr), shape=(n, n))\n",
    "\n",
    "def __cols(theta):\n",
    "    return np.flip(np.linalg.cholesky(np.flip(theta))).T\n",
    "\n",
    "def __aggregate_chol(points, velocity, sparsity, groups):\n",
    "    n = len(points)\n",
    "    ptr = np.cumsum([0] + [len(sparsity[i]) for i in range(n)])\n",
    "    data, indices = np.zeros(ptr[-1]), np.zeros(ptr[-1])\n",
    "    for group in groups:\n",
    "        s = sorted(sparsity[group[0]])\n",
    "        positions = {i: k for k, i in enumerate(s)}\n",
    "        data_group = np.cov(velocity[:, s], rowvar=False, bias=True)\n",
    "        L_group = __cols(data_group)\n",
    "        for i in group:\n",
    "            k = positions[i]\n",
    "            e_k = np.zeros(len(s))\n",
    "            e_k[k] = 1\n",
    "            col = scipy.linalg.solve_triangular(L_group, e_k, lower=True, check_finite=False)\n",
    "            data[ptr[i] : ptr[i + 1]] = col[k:]\n",
    "            indices[ptr[i] : ptr[i + 1]] = s[k:]\n",
    "    return sparse.csc_matrix((data, indices, ptr), shape=(n, n))\n",
    "\n",
    "def reverse_maximin(points):\n",
    "    n = np.shape(points)[0]\n",
    "    indices = np.zeros(n, dtype=int)\n",
    "    lengths = np.zeros(n, dtype=float)\n",
    "    dists = np.linalg.norm(points - points[0], axis=1)\n",
    "    indices[-1] = 0\n",
    "    lengths[0] = np.inf\n",
    "    for i in range(n - 2, -1, -1):\n",
    "        k = np.argmax(dists)\n",
    "        indices[i] = k\n",
    "        lengths[i] = dists[k]\n",
    "        dists = np.minimum(dists, np.linalg.norm(points[k] - points, axis=1))\n",
    "    return indices, lengths\n",
    "\n",
    "def sparsity_pattern(points, lengths, rho):\n",
    "    tree, offset, length_scale = KDTree(points), 0, lengths[0]\n",
    "    sparsity = {}\n",
    "    for i in range(len(points)):\n",
    "        if lengths[i] > 2 * length_scale:\n",
    "            tree, offset, length_scale = KDTree(points[i:]), i, lengths[i]\n",
    "        sparsity[i] = [\n",
    "            offset + j\n",
    "            for j in tree.query_ball_point(points[i], rho * lengths[i])\n",
    "            if offset + j >= i\n",
    "        ]\n",
    "    return sparsity"
   ]
  },
  {
   "cell_type": "code",
   "execution_count": 26,
   "id": "a56e78d4",
   "metadata": {},
   "outputs": [],
   "source": [
    "def kl_plot(points, data):\n",
    "    order, lengths = reverse_maximin(points)\n",
    "    ordered_points = points[order]\n",
    "    ordered_data = data[:, order]\n",
    "    cov = np.cov(ordered_data, rowvar=False, bias=True)\n",
    "    delta = 0.3\n",
    "    for i in range(1, 20):\n",
    "        rho = 4.0 + i * delta\n",
    "        sparsity = sparsity_pattern(ordered_points, lengths, rho)\n",
    "        groups, agg_sparsity = __supernodes(sparsity, lengths, 1.5)\n",
    "        L = __aggregate_chol(points, ordered_data, agg_sparsity, groups)\n",
    "        # print(L)\n",
    "        kl = sparse_kl_div(cov, L)\n",
    "        print(rho, kl)\n",
    "        plt.scatter(rho, np.log(kl), color='blue')\n",
    "        plt.xlabel(\"rho\")\n",
    "        plt.ylabel(\"log(KL(Theta, inv(LL^T)))\")\n",
    "    plt.show()"
   ]
  },
  {
   "cell_type": "code",
   "execution_count": 27,
   "id": "956e7cf2",
   "metadata": {},
   "outputs": [
    {
     "name": "stdout",
     "output_type": "stream",
     "text": [
      "4.3 7.62039738826536\n",
      "4.6 6.979743324863762\n",
      "4.9 6.822946935122673\n",
      "5.2 4.307343402107676\n",
      "5.5 3.6300958031041546\n",
      "5.8 3.0586108019647327\n",
      "6.1 1.9127262433379428\n",
      "6.4 1.7641697734509307\n",
      "6.699999999999999 1.1286470800805546\n",
      "7.0 0.8556513267078572\n",
      "7.3 0.680118093521628\n",
      "7.6 0.6281319390598128\n",
      "7.9 0.48051053091523954\n",
      "8.2 0.4179643282413963\n",
      "8.5 0.4432376752050686\n",
      "8.8 0.36616240703835956\n",
      "9.1 0.31632821621440144\n",
      "9.399999999999999 0.26718343050083604\n",
      "9.7 0.236866380683864\n"
     ]
    },
    {
     "data": {
      "image/png": "[encoded data removed]",
      "text/plain": [
       "<Figure size 640x480 with 1 Axes>"
      ]
     },
     "metadata": {},
     "output_type": "display_data"
    }
   ],
   "source": [
    "kl_plot(points, x_velocity)"
   ]
  }
 ],
 "metadata": {
  "kernelspec": {
   "display_name": "Python 3",
   "language": "python",
   "name": "python3"
  },
  "language_info": {
   "codemirror_mode": {
    "name": "ipython",
    "version": 3
   },
   "file_extension": ".py",
   "mimetype": "text/x-python",
   "name": "python",
   "nbconvert_exporter": "python",
   "pygments_lexer": "ipython3",
   "version": "3.10.17"
  }
 },
 "nbformat": 4,
 "nbformat_minor": 5
}
